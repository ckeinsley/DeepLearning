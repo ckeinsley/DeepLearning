{
 "cells": [
  {
   "cell_type": "code",
   "execution_count": 8,
   "metadata": {},
   "outputs": [],
   "source": [
    "import zipfile as zf\n",
    "import os\n",
    "import pandas as pd\n",
    "import numpy as np\n",
    "import re"
   ]
  },
  {
   "cell_type": "code",
   "execution_count": 9,
   "metadata": {},
   "outputs": [],
   "source": [
    "MAX = 8000\n",
    "code_path = './Data'\n",
    "test_path = './Test'"
   ]
  },
  {
   "cell_type": "code",
   "execution_count": 17,
   "metadata": {},
   "outputs": [],
   "source": [
    "# zip files are put into folders (good/bad) based on team\n",
    "path = './Data'\n",
    "def createNParrays(path, maximum):\n",
    "    code = []\n",
    "    value = []\n",
    "    for value_path in os.listdir(path):\n",
    "        if os.path.isdir(path + '/' + value_path):\n",
    "            for filename in os.listdir(path + '/' + value_path):\n",
    "                if filename.endswith(\".zip\"):\n",
    "                    processZip(path, value_path, filename, code, value)\n",
    "    for i in range(len(code)):\n",
    "        if len(code[i]) > maximum:\n",
    "            code[i] = np.resize(code[i], (maximum))\n",
    "        else:\n",
    "            code[i] = np.pad(code[i], (0, maximum - len(code[i])), 'constant')\n",
    "    X = np.array(code)\n",
    "    print(X[0].shape)\n",
    "    print(X.shape)\n",
    "    np.save(path + '/code', X)\n",
    "    np.save(path + '/values', np.array(value))\n",
    "    return X, value\n",
    "    \n",
    "def processZip(path, value_path, filename, code, value):\n",
    "    with zf.ZipFile(path + '/' + value_path + '/' + filename, 'r') as f:\n",
    "        for name in f.namelist():\n",
    "            if name.endswith('.java'):\n",
    "                code.append(np.frombuffer(processFile(f, name), dtype=np.uint8))\n",
    "                value.append(value_path)\n",
    "        f.close()\n",
    "        \n",
    "def processFile(f, name):\n",
    "    buffer = f.read(name)\n",
    "    stringVersion = buffer.decode(\"utf-8\")\n",
    "    lines = stringVersion.splitlines()\n",
    "    lines = [x for x in lines if not (x.startswith(\"import\") or x.startswith(\"package\")) ]\n",
    "    newString = ''.join(lines)\n",
    "    newString = removeComments(newString)\n",
    "    return newString.encode(\"utf-8\")\n",
    "\n",
    "def removeComments(s):\n",
    "    s = re.sub(re.compile(\"/\\*.*?\\*/\",re.DOTALL ) ,\"\" ,s)\n",
    "    s = re.sub(re.compile(\"//.*?\\n\" ) ,\"\" ,s)\n",
    "    return s"
   ]
  },
  {
   "cell_type": "code",
   "execution_count": 18,
   "metadata": {
    "scrolled": true
   },
   "outputs": [
    {
     "name": "stdout",
     "output_type": "stream",
     "text": [
      "(8000,)\n",
      "(163, 8000)\n"
     ]
    },
    {
     "data": {
      "text/plain": [
       "bad     128\n",
       "good     35\n",
       "dtype: int64"
      ]
     },
     "execution_count": 18,
     "metadata": {},
     "output_type": "execute_result"
    }
   ],
   "source": [
    "X, value = createNParrays(code_path, MAX)\n",
    "pd.get_dummies(value).sum(axis=0)"
   ]
  },
  {
   "cell_type": "code",
   "execution_count": 19,
   "metadata": {},
   "outputs": [
    {
     "name": "stdout",
     "output_type": "stream",
     "text": [
      "(8000,)\n",
      "(1643, 8000)\n"
     ]
    },
    {
     "data": {
      "text/plain": [
       "bad     915\n",
       "good    728\n",
       "dtype: int64"
      ]
     },
     "execution_count": 19,
     "metadata": {},
     "output_type": "execute_result"
    }
   ],
   "source": [
    "X, value = createNParrays(test_path, MAX)\n",
    "pd.get_dummies(value).sum(axis=0)"
   ]
  },
  {
   "cell_type": "code",
   "execution_count": null,
   "metadata": {},
   "outputs": [],
   "source": []
  }
 ],
 "metadata": {
  "kernelspec": {
   "display_name": "Python 3",
   "language": "python",
   "name": "python3"
  },
  "language_info": {
   "codemirror_mode": {
    "name": "ipython",
    "version": 3
   },
   "file_extension": ".py",
   "mimetype": "text/x-python",
   "name": "python",
   "nbconvert_exporter": "python",
   "pygments_lexer": "ipython3",
   "version": "3.6.5"
  }
 },
 "nbformat": 4,
 "nbformat_minor": 2
}
