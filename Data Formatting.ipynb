{
 "cells": [
  {
   "cell_type": "code",
   "execution_count": 42,
   "metadata": {},
   "outputs": [],
   "source": [
    "import zipfile as zf\n",
    "import os\n",
    "import pandas as pd\n",
    "import numpy as np"
   ]
  },
  {
   "cell_type": "code",
   "execution_count": 179,
   "metadata": {},
   "outputs": [],
   "source": [
    "# zip files are put into folders (good/bad) based on team\n",
    "path = './Data'\n",
    "code = []\n",
    "value = []\n",
    "for value_path in os.listdir(path):\n",
    "    if os.path.isdir(path + '/' + value_path):\n",
    "        for filename in os.listdir(path + '/' + value_path):\n",
    "            if filename.endswith(\".zip\"):\n",
    "                with zf.ZipFile(path + '/' + value_path + '/' + filename, 'r') as f:\n",
    "                    for name in f.namelist():\n",
    "                        if name.endswith('.java'):\n",
    "                            code.append(np.frombuffer(f.read(name), dtype=np.uint8))\n",
    "#                             code.append(f.read(name))\n",
    "                            value.append(value_path)\n",
    "                    f.close()"
   ]
  },
  {
   "cell_type": "code",
   "execution_count": 204,
   "metadata": {},
   "outputs": [],
   "source": [
    "m = []\n",
    "for c in code:\n",
    "    if len(c) > len(m):\n",
    "        m = c\n",
    "\n",
    "for i in range(len(code)):\n",
    "    code[i] = np.pad(code[i], (0, len(m) - len(code[i])), 'constant')"
   ]
  },
  {
   "cell_type": "code",
   "execution_count": 205,
   "metadata": {},
   "outputs": [
    {
     "name": "stdout",
     "output_type": "stream",
     "text": [
      "(79521,)\n",
      "(163, 2)\n"
     ]
    }
   ],
   "source": [
    "X = np.array(code)\n",
    "print(X[0].shape)"
   ]
  },
  {
   "cell_type": "code",
   "execution_count": 209,
   "metadata": {},
   "outputs": [],
   "source": [
    "np.save('./Data/code', X)\n",
    "np.save('./Data/values', np.array(value))"
   ]
  },
  {
   "cell_type": "code",
   "execution_count": null,
   "metadata": {},
   "outputs": [],
   "source": []
  }
 ],
 "metadata": {
  "kernelspec": {
   "display_name": "Python 3",
   "language": "python",
   "name": "python3"
  },
  "language_info": {
   "codemirror_mode": {
    "name": "ipython",
    "version": 3
   },
   "file_extension": ".py",
   "mimetype": "text/x-python",
   "name": "python",
   "nbconvert_exporter": "python",
   "pygments_lexer": "ipython3",
   "version": "3.6.5"
  }
 },
 "nbformat": 4,
 "nbformat_minor": 2
}
